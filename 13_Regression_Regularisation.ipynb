{
 "cells": [
  {
   "cell_type": "code",
   "execution_count": 1,
   "metadata": {},
   "outputs": [],
   "source": [
    "# Import necessary libraries\n",
    "import time\n",
    "import numpy as np\n",
    "import matplotlib.pyplot as plt\n",
    "from sklearn import metrics\n",
    "from sklearn.datasets import fetch_openml # MNIST data\n",
    "from sklearn import linear_model\n",
    "from sklearn.preprocessing import StandardScaler\n",
    "from sklearn.model_selection import train_test_split\n",
    "from sklearn.utils import check_random_state\n",
    "# %matplotlib inline"
   ]
  },
  {
   "cell_type": "markdown",
   "metadata": {},
   "source": [
    "## [1] MNIST - regression\n",
    "Logistic regression and regularisation. \n",
    "* Using the SGDClassifer and the LogisticRegression, we build classifers for the MNIST dataset.  \n",
    "* We find some handwritten digits which the classifers are not capable of classifying correctly. How do they differ from correctly classifed digits?  \n",
    "* We scan over hyper-parameters (i.e. l1, l2 regularisation, different optimisers) and compare the\n",
    "performance.  \n",
    "* Lastly compare results to results we would have obtained by pure random guessing."
   ]
  },
  {
   "cell_type": "markdown",
   "metadata": {},
   "source": [
    "### Solution"
   ]
  },
  {
   "cell_type": "code",
   "execution_count": 2,
   "metadata": {},
   "outputs": [
    {
     "name": "stdout",
     "output_type": "stream",
     "text": [
      "(70000, 784) (70000,)\n"
     ]
    }
   ],
   "source": [
    "# Code adapted from the \"A high-bias, low-variance introduction to Machine Learning for physicists\" review by Mehta et al.\n",
    "### load MNIST data from https://www.openml.org/d/554\n",
    "X, y = fetch_openml('mnist_784', version=1, return_X_y=True)\n",
    "print(X.shape, y.shape)"
   ]
  },
  {
   "cell_type": "markdown",
   "metadata": {},
   "source": [
    "We have $70 000$ flattened images of size $28\\times28$, and a label for each."
   ]
  },
  {
   "cell_type": "code",
   "execution_count": 3,
   "metadata": {},
   "outputs": [
    {
     "name": "stdout",
     "output_type": "stream",
     "text": [
      "255\n",
      "99.99499987499378\n"
     ]
    }
   ],
   "source": [
    "# Focus on a portion only (for speed)\n",
    "train_size = 10000\n",
    "test_size = 2000\n",
    "\n",
    "# shuffle data and extract the portion.\n",
    "random_state = check_random_state(0)\n",
    "permutation = random_state.permutation(X.shape[0])\n",
    "# X = X[permutation]\n",
    "# y = y[permutation]\n",
    "X = X.iloc[permutation]\n",
    "y = y.iloc[permutation]\n",
    "\n",
    "# pick training and test data sets in this portion (note that this reshuffle)\n",
    "X_train, X_test, y_train, y_test = train_test_split(X, y, train_size=train_size, test_size=test_size)\n",
    "print(np.max(X_train))\n",
    "# scale data to have zero mean and unit variance \n",
    "scaler = StandardScaler()\n",
    "X_train = scaler.fit_transform(X_train) # fit AND transform\n",
    "X_test = scaler.transform(X_test) ## DO NOT REFIT: WE WANT THE SAME SCALING FOR BOTH DATASETS!!\n",
    "print(np.max(X_train))"
   ]
  },
  {
   "cell_type": "code",
   "execution_count": 4,
   "metadata": {},
   "outputs": [],
   "source": [
    "def log_classify(reg_strength=1e4, print_res = True, **kwargs):\n",
    "    t0 = time.time()\n",
    "    # apply logistic regressor with 'sag' solver, C is the inverse regularization strength\n",
    "    clf = linear_model.LogisticRegression(C=reg_strength, **kwargs)\n",
    "    # fit data\n",
    "    clf.fit(X_train, y_train) ## This uses a solver because non-linear problem!!\n",
    "    # percentage of nonzero weights\n",
    "    sparsity = np.mean(clf.coef_ == 0) * 100\n",
    "    # compute accuracy\n",
    "    score = clf.score(X_test, y_test)\n",
    "\n",
    "    #display run time\n",
    "    run_time = time.time() - t0\n",
    "    if print_res:\n",
    "        print('Example run in %.3f s' % run_time)\n",
    "        print(\"Sparsity: %.2f%%\" % sparsity)\n",
    "        print(\"Testscore: %.4f\" % score)\n",
    "    return clf, score"
   ]
  },
  {
   "cell_type": "code",
   "execution_count": 5,
   "metadata": {},
   "outputs": [
    {
     "name": "stderr",
     "output_type": "stream",
     "text": [
      "c:\\Users\\yoann\\OneDrive - University of Cambridge\\PhD\\Teaching\\Mphil\\ML M1\\my_env\\Lib\\site-packages\\sklearn\\linear_model\\_logistic.py:1247: FutureWarning: 'multi_class' was deprecated in version 1.5 and will be removed in 1.7. From then on, it will always use 'multinomial'. Leave it to its default value to avoid this warning.\n",
      "  warnings.warn(\n"
     ]
    },
    {
     "name": "stdout",
     "output_type": "stream",
     "text": [
      "Example run in 11.866 s\n",
      "Sparsity: 14.03%\n",
      "Testscore: 0.8965\n"
     ]
    }
   ],
   "source": [
    "log_model, score = log_classify(multi_class='multinomial', penalty='l2', solver='sag', tol=1e-2) #Note that multinomial regression is "
   ]
  },
  {
   "cell_type": "markdown",
   "metadata": {},
   "source": [
    "What is the score? It is the accuracy, which is not the same as the loss!!"
   ]
  },
  {
   "cell_type": "code",
   "execution_count": 6,
   "metadata": {},
   "outputs": [],
   "source": [
    "# SGDClassifier\n",
    "\n",
    "def SGD_classify(print_res = True, **kwargs):\n",
    "    t0 = time.time()\n",
    "    clf = linear_model.SGDClassifier(**kwargs)\n",
    "    clf.fit(X_train, y_train)\n",
    "    score = clf.score(X_test, y_test)\n",
    "    \n",
    "    #display run time\n",
    "    run_time = time.time() - t0\n",
    "    if print_res:\n",
    "        print('Example run in %.3f s' % run_time)\n",
    "        print(\"Testscore: %.4f\" % score)\n",
    "    return clf, score"
   ]
  },
  {
   "cell_type": "code",
   "execution_count": 7,
   "metadata": {},
   "outputs": [
    {
     "name": "stdout",
     "output_type": "stream",
     "text": [
      "Example run in 16.203 s\n",
      "Testscore: 0.9040\n"
     ]
    },
    {
     "name": "stderr",
     "output_type": "stream",
     "text": [
      "c:\\Users\\yoann\\OneDrive - University of Cambridge\\PhD\\Teaching\\Mphil\\ML M1\\my_env\\Lib\\site-packages\\sklearn\\linear_model\\_stochastic_gradient.py:744: ConvergenceWarning: Maximum number of iteration reached before convergence. Consider increasing max_iter to improve the fit.\n",
      "  warnings.warn(\n"
     ]
    }
   ],
   "source": [
    "SGD_model, score = SGD_classify(loss='log_loss', max_iter=100, tol=1e-5)"
   ]
  },
  {
   "cell_type": "markdown",
   "metadata": {},
   "source": [
    "What is the difference between SGD and LogisticRegression? The former has the latter but also many more loss functions. But the latter has also newtonian solvers."
   ]
  },
  {
   "cell_type": "code",
   "execution_count": 8,
   "metadata": {},
   "outputs": [
    {
     "data": {
      "image/png": "[encoded data removed]",
      "text/plain": [
       "<Figure size 1000x500 with 10 Axes>"
      ]
     },
     "metadata": {},
     "output_type": "display_data"
    }
   ],
   "source": [
    "# Find examples that were not classified correctly:\n",
    "\n",
    "# We use a boolean mask to get those which were not classified correctly\n",
    "mask = (log_model.predict(X_test) != y_test)\n",
    "X_false = X_test[mask]\n",
    "\n",
    "\n",
    "#plot a few next to each other\n",
    "plt.figure(figsize=(10, 5))\n",
    "for i in range(10):\n",
    "    l2_plot = plt.subplot(2, 5, i + 1)\n",
    "    l2_plot.imshow(X_false[i].reshape(28, 28), interpolation='nearest',\n",
    "                   cmap=plt.cm.Greys)\n",
    "    l2_plot.set_xticks(())\n",
    "    l2_plot.set_yticks(())\n",
    "#plt.subplots_adjust(wspace=-0.8,hspace=0, left=0,right=0.5)"
   ]
  },
  {
   "cell_type": "code",
   "execution_count": 9,
   "metadata": {},
   "outputs": [
    {
     "data": {
      "image/png": "[encoded data removed]",
      "text/plain": [
       "<Figure size 1000x500 with 10 Axes>"
      ]
     },
     "metadata": {},
     "output_type": "display_data"
    }
   ],
   "source": [
    "# Compare to correctly classified ones\n",
    "\n",
    "# We use a boolean mask to get those which were classified correctly\n",
    "mask = (log_model.predict(X_test) == y_test)\n",
    "X_true = X_test[mask]\n",
    "\n",
    "\n",
    "#plot a few next to each other\n",
    "plt.figure(figsize=(10, 5))\n",
    "for i in range(10):\n",
    "    l2_plot = plt.subplot(2, 5, i + 1)\n",
    "    l2_plot.imshow(X_true[i].reshape(28, 28), interpolation='nearest',\n",
    "                   cmap=plt.cm.Greys)\n",
    "    l2_plot.set_xticks(())\n",
    "    l2_plot.set_yticks(())"
   ]
  },
  {
   "cell_type": "markdown",
   "metadata": {},
   "source": [
    "We see that those numbers with a lot of straight lines are easier to classify than the ones with loops. The performance on the number 8 seems to be particularly bad. Let's quantify this:"
   ]
  },
  {
   "cell_type": "code",
   "execution_count": 10,
   "metadata": {},
   "outputs": [
    {
     "data": {
      "image/png": "[encoded data removed]",
      "text/plain": [
       "<Figure size 640x480 with 4 Axes>"
      ]
     },
     "metadata": {},
     "output_type": "display_data"
    },
    {
     "data": {
      "image/png": "[encoded data removed]",
      "text/plain": [
       "<Figure size 640x480 with 4 Axes>"
      ]
     },
     "metadata": {},
     "output_type": "display_data"
    },
    {
     "data": {
      "image/png": "[encoded data removed]",
      "text/plain": [
       "<Figure size 640x480 with 2 Axes>"
      ]
     },
     "metadata": {},
     "output_type": "display_data"
    }
   ],
   "source": [
    "# again we use boolean masking to extract the number of wrongly predited digits.\n",
    "\n",
    "plt.figure()\n",
    "for i in range(4):\n",
    "    prediction_per_class = log_model.predict(X_test)[y_test==str(i)]\n",
    "    unique, counts = np.unique(prediction_per_class, return_counts=True)\n",
    "    plt.subplot(2, 2, i+1)\n",
    "    plt.bar(unique[unique!=str(i)], 100*counts[unique!=str(i)]/len(prediction_per_class))\n",
    "    plt.title('Misclassification of ' + str(i) + ' in Percent')\n",
    "    plt.xlabel('Classified as')\n",
    "plt.tight_layout()\n",
    "\n",
    "plt.figure()\n",
    "for i in range(4,8):\n",
    "    prediction_per_class = log_model.predict(X_test)[y_test==str(i)]\n",
    "    unique, counts = np.unique(prediction_per_class, return_counts=True)\n",
    "    plt.subplot(2, 2, i-3)\n",
    "    plt.bar(unique[unique!=str(i)], 100*counts[unique!=str(i)]/len(prediction_per_class))\n",
    "    plt.title('Misclassification of ' + str(i) + ' in Percent')\n",
    "    plt.xlabel('Classified as')\n",
    "plt.tight_layout()\n",
    "\n",
    "plt.figure()\n",
    "for i in range(8,10):\n",
    "    prediction_per_class = log_model.predict(X_test)[y_test==str(i)]\n",
    "    unique, counts = np.unique(prediction_per_class, return_counts=True)\n",
    "    plt.subplot(2, 2, i-7)\n",
    "    plt.bar(unique[unique!=str(i)], 100*counts[unique!=str(i)]/len(prediction_per_class))\n",
    "    plt.title('Misclassification of ' + str(i) + ' in Percent')\n",
    "    plt.xlabel('Classified as')\n",
    "plt.tight_layout()"
   ]
  },
  {
   "cell_type": "markdown",
   "metadata": {},
   "source": [
    "We see that 9,8 and 5 are very problematic. 1 is the easiest to classify (intuitively obvious)."
   ]
  },
  {
   "cell_type": "markdown",
   "metadata": {},
   "source": [
    "Now try L1 regularization"
   ]
  },
  {
   "cell_type": "code",
   "execution_count": 11,
   "metadata": {},
   "outputs": [
    {
     "name": "stderr",
     "output_type": "stream",
     "text": [
      "c:\\Users\\yoann\\OneDrive - University of Cambridge\\PhD\\Teaching\\Mphil\\ML M1\\my_env\\Lib\\site-packages\\sklearn\\linear_model\\_logistic.py:1247: FutureWarning: 'multi_class' was deprecated in version 1.5 and will be removed in 1.7. From then on, it will always use 'multinomial'. Leave it to its default value to avoid this warning.\n",
      "  warnings.warn(\n"
     ]
    },
    {
     "name": "stdout",
     "output_type": "stream",
     "text": [
      "Example run in 37.952 s\n",
      "Sparsity: 14.03%\n",
      "Testscore: 0.8960\n"
     ]
    },
    {
     "data": {
      "text/plain": [
       "(LogisticRegression(C=10000.0, multi_class='multinomial', penalty='l1',\n",
       "                    solver='saga', tol=0.01),\n",
       " 0.896)"
      ]
     },
     "execution_count": 11,
     "metadata": {},
     "output_type": "execute_result"
    }
   ],
   "source": [
    "# we use the saga solver because it supports l1 regularization\n",
    "log_classify(reg_strength=1e4, multi_class='multinomial', penalty='l1', solver='saga', tol=1e-2)"
   ]
  },
  {
   "cell_type": "markdown",
   "metadata": {},
   "source": [
    "We see that there is no significant difference. Let's try other choices of solvers. Supported are (‘newton-cg’, ‘lbfgs’, ‘liblinear’, ‘sag’, ‘saga’)"
   ]
  },
  {
   "cell_type": "code",
   "execution_count": 12,
   "metadata": {},
   "outputs": [
    {
     "name": "stderr",
     "output_type": "stream",
     "text": [
      "c:\\Users\\yoann\\OneDrive - University of Cambridge\\PhD\\Teaching\\Mphil\\ML M1\\my_env\\Lib\\site-packages\\sklearn\\linear_model\\_logistic.py:1256: FutureWarning: 'multi_class' was deprecated in version 1.5 and will be removed in 1.7. Use OneVsRestClassifier(LogisticRegression(..)) instead. Leave it to its default value to avoid this warning.\n",
      "  warnings.warn(\n"
     ]
    },
    {
     "name": "stdout",
     "output_type": "stream",
     "text": [
      "Example run in 87.580 s\n",
      "Sparsity: 14.03%\n",
      "Testscore: 0.8330\n"
     ]
    },
    {
     "data": {
      "text/plain": [
       "(LogisticRegression(C=10000.0, multi_class='ovr', solver='liblinear', tol=0.01),\n",
       " 0.833)"
      ]
     },
     "execution_count": 12,
     "metadata": {},
     "output_type": "execute_result"
    }
   ],
   "source": [
    "log_classify(reg_strength=1e4, multi_class='ovr', penalty='l2', solver='liblinear', tol=1e-2)"
   ]
  },
  {
   "cell_type": "markdown",
   "metadata": {},
   "source": [
    "Runtime is significantly longer. The result is also significantly worse."
   ]
  },
  {
   "cell_type": "code",
   "execution_count": 13,
   "metadata": {},
   "outputs": [
    {
     "name": "stderr",
     "output_type": "stream",
     "text": [
      "c:\\Users\\yoann\\OneDrive - University of Cambridge\\PhD\\Teaching\\Mphil\\ML M1\\my_env\\Lib\\site-packages\\sklearn\\linear_model\\_logistic.py:1247: FutureWarning: 'multi_class' was deprecated in version 1.5 and will be removed in 1.7. From then on, it will always use 'multinomial'. Leave it to its default value to avoid this warning.\n",
      "  warnings.warn(\n"
     ]
    },
    {
     "name": "stdout",
     "output_type": "stream",
     "text": [
      "Example run in 0.394 s\n",
      "Sparsity: 14.03%\n",
      "Testscore: 0.8960\n"
     ]
    },
    {
     "data": {
      "text/plain": [
       "(LogisticRegression(C=10000.0, multi_class='multinomial', solver='newton-cg',\n",
       "                    tol=0.01),\n",
       " 0.896)"
      ]
     },
     "execution_count": 13,
     "metadata": {},
     "output_type": "execute_result"
    }
   ],
   "source": [
    "log_classify(reg_strength=1e4, multi_class='multinomial', penalty='l2', solver='newton-cg', tol=1e-2)"
   ]
  },
  {
   "cell_type": "markdown",
   "metadata": {},
   "source": [
    "Result is comparatively poor."
   ]
  },
  {
   "cell_type": "code",
   "execution_count": 14,
   "metadata": {},
   "outputs": [
    {
     "name": "stdout",
     "output_type": "stream",
     "text": [
      "Example run in 0.191 s\n",
      "Sparsity: 14.03%\n",
      "Testscore: 0.8855\n"
     ]
    },
    {
     "name": "stderr",
     "output_type": "stream",
     "text": [
      "c:\\Users\\yoann\\OneDrive - University of Cambridge\\PhD\\Teaching\\Mphil\\ML M1\\my_env\\Lib\\site-packages\\sklearn\\linear_model\\_logistic.py:1247: FutureWarning: 'multi_class' was deprecated in version 1.5 and will be removed in 1.7. From then on, it will always use 'multinomial'. Leave it to its default value to avoid this warning.\n",
      "  warnings.warn(\n"
     ]
    },
    {
     "data": {
      "text/plain": [
       "(LogisticRegression(C=10000.0, multi_class='multinomial', tol=0.01), 0.8855)"
      ]
     },
     "execution_count": 14,
     "metadata": {},
     "output_type": "execute_result"
    }
   ],
   "source": [
    "log_classify(reg_strength=1e4, multi_class='multinomial', penalty='l2', solver='lbfgs', tol=1e-2)"
   ]
  },
  {
   "cell_type": "markdown",
   "metadata": {},
   "source": [
    "This is quite fast but gives a poor result."
   ]
  },
  {
   "cell_type": "markdown",
   "metadata": {},
   "source": [
    "Of course we see that all of the results are much better than random guessing, which would have a 0.1 success rate."
   ]
  },
  {
   "cell_type": "markdown",
   "metadata": {},
   "source": [
    "## Let's try more hypertuning using a nice library: Optuna."
   ]
  },
  {
   "cell_type": "code",
   "execution_count": 15,
   "metadata": {},
   "outputs": [
    {
     "name": "stderr",
     "output_type": "stream",
     "text": [
      "c:\\Users\\yoann\\OneDrive - University of Cambridge\\PhD\\Teaching\\Mphil\\ML M1\\my_env\\Lib\\site-packages\\tqdm\\auto.py:21: TqdmWarning: IProgress not found. Please update jupyter and ipywidgets. See https://ipywidgets.readthedocs.io/en/stable/user_install.html\n",
      "  from .autonotebook import tqdm as notebook_tqdm\n"
     ]
    }
   ],
   "source": [
    "import optuna\n",
    "import optuna.visualization as vis"
   ]
  },
  {
   "cell_type": "code",
   "execution_count": 16,
   "metadata": {},
   "outputs": [],
   "source": [
    "\n",
    "def objective(trial):\n",
    "    classifier_type = trial.suggest_categorical(\"classifier\", [\"SGD\", \"Logistic\"])\n",
    "    try:\n",
    "        tol = trial.suggest_float(\"tol\", 1e-5, 1e-1, log = True)\n",
    "        penalty = trial.suggest_categorical(\"penalty\", [\"l2\", \"l1\",None])\n",
    "        if classifier_type == \"SGD\":\n",
    "            alpha = trial.suggest_float(\"alpha\", 1e-5, 1e-1, log = True)\n",
    "            max_iter = trial.suggest_int(\"max_iter\", 100, 1000)\n",
    "            clf, score = SGD_classify(print_res=False, alpha=alpha, max_iter=max_iter, tol=tol, penalty=penalty)\n",
    "        \n",
    "        else:  # Logistic\n",
    "            reg_strength = trial.suggest_float(\"reg_strength\", 1e-5, 1e5, log = True)\n",
    "            solver = trial.suggest_categorical(\"solver\", [\"lbfgs\", \"saga\", \"newton-cg\"])\n",
    "            clf, score = log_classify(reg_strength=reg_strength, print_res=False, solver=solver, tol=tol, penalty=penalty, multi_class='multinomial')\n",
    "\n",
    "        return score\n",
    "    \n",
    "    except Exception as e:\n",
    "        return float(\"nan\")  # Discard the trial\n"
   ]
  },
  {
   "cell_type": "code",
   "execution_count": null,
   "metadata": {},
   "outputs": [],
   "source": [
    "# Create a study and optimize\n",
    "study = optuna.create_study(direction=\"maximize\")\n",
    "study.optimize(objective, n_trials=100, n_jobs = -1,show_progress_bar = True)\n",
    "\n",
    "# Print best trial results\n",
    "print(\"Best trial:\")\n",
    "trial = study.best_trial\n",
    "print(f\"  Value: {trial.value}\")\n",
    "print(\"  Params:\")\n",
    "for key, value in trial.params.items():\n",
    "    print(f\"    {key}: {value}\")\n"
   ]
  },
  {
   "cell_type": "code",
   "execution_count": 19,
   "metadata": {},
   "outputs": [
    {
     "data": {
      "application/vnd.plotly.v1+json": {
       "config": {
        "plotlyServerURL": "https://plot.ly"
       },
       "data": [
        {
         "mode": "markers",
         "name": "Objective Value",
         "type": "scatter",
         "x": [
          0,
          2,
          3,
          4,
          5,
          6,
          7,
          8,
          9,
          10,
          11,
          12,
          14,
          15,
          16,
          17,
          18,
          19,
          21,
          22,
          23,
          24,
          25,
          26,
          27,
          28,
          29,
          30,
          31,
          32,
          33,
          34,
          35,
          36,
          37,
          38,
          39,
          40,
          41,
          42,
          43,
          44,
          45,
          46,
          47,
          48,
          49,
          50,
          51,
          52,
          53,
          54,
          55,
          56,
          57,
          58,
          59,
          60,
          61,
          62,
          63,
          64,
          65,
          66,
          67,
          68,
          69,
          70,
          71,
          72,
          73,
          74,
          75,
          76,
          77,
          78,
          79,
          80,
          81,
          82,
          83,
          84,
          85,
          86,
          87,
          88,
          89,
          90,
          91,
          92,
          93,
          94,
          95,
          96,
          97,
          98,
          99
         ],
         "y": [
          0.88,
          0.8815,
          0.6595,
          0.8685,
          0.853,
          0.8955,
          0.8695,
          0.86,
          0.9,
          0.896,
          0.8955,
          0.8605,
          0.678,
          0.883,
          0.734,
          0.8945,
          0.8625,
          0.8835,
          0.107,
          0.8705,
          0.902,
          0.8675,
          0.8705,
          0.897,
          0.9,
          0.8985,
          0.899,
          0.8665,
          0.894,
          0.8655,
          0.8655,
          0.8635,
          0.9005,
          0.8995,
          0.8765,
          0.8675,
          0.874,
          0.8955,
          0.901,
          0.8955,
          0.891,
          0.8975,
          0.903,
          0.899,
          0.8995,
          0.899,
          0.9005,
          0.9005,
          0.9015,
          0.8995,
          0.898,
          0.897,
          0.9015,
          0.8975,
          0.901,
          0.8965,
          0.894,
          0.8645,
          0.859,
          0.8645,
          0.734,
          0.895,
          0.8995,
          0.8995,
          0.8605,
          0.8605,
          0.8985,
          0.861,
          0.868,
          0.8645,
          0.8655,
          0.867,
          0.8965,
          0.9005,
          0.8985,
          0.8975,
          0.8995,
          0.893,
          0.8895,
          0.9,
          0.8995,
          0.899,
          0.9,
          0.9005,
          0.9015,
          0.8995,
          0.879,
          0.9015,
          0.901,
          0.9005,
          0.892,
          0.899,
          0.8985,
          0.8995,
          0.8935,
          0.8985,
          0.901
         ]
        },
        {
         "mode": "lines",
         "name": "Best Value",
         "type": "scatter",
         "x": [
          0,
          1,
          2,
          3,
          4,
          5,
          6,
          7,
          8,
          9,
          10,
          11,
          12,
          13,
          14,
          15,
          16,
          17,
          18,
          19,
          20,
          21,
          22,
          23,
          24,
          25,
          26,
          27,
          28,
          29,
          30,
          31,
          32,
          33,
          34,
          35,
          36,
          37,
          38,
          39,
          40,
          41,
          42,
          43,
          44,
          45,
          46,
          47,
          48,
          49,
          50,
          51,
          52,
          53,
          54,
          55,
          56,
          57,
          58,
          59,
          60,
          61,
          62,
          63,
          64,
          65,
          66,
          67,
          68,
          69,
          70,
          71,
          72,
          73,
          74,
          75,
          76,
          77,
          78,
          79,
          80,
          81,
          82,
          83,
          84,
          85,
          86,
          87,
          88,
          89,
          90,
          91,
          92,
          93,
          94,
          95,
          96,
          97,
          98,
          99
         ],
         "y": [
          0.88,
          0.88,
          0.8815,
          0.8815,
          0.8815,
          0.8815,
          0.8955,
          0.8955,
          0.8955,
          0.9,
          0.9,
          0.9,
          0.9,
          0.9,
          0.9,
          0.9,
          0.9,
          0.9,
          0.9,
          0.9,
          0.9,
          0.9,
          0.9,
          0.902,
          0.902,
          0.902,
          0.902,
          0.902,
          0.902,
          0.902,
          0.902,
          0.902,
          0.902,
          0.902,
          0.902,
          0.902,
          0.902,
          0.902,
          0.902,
          0.902,
          0.902,
          0.902,
          0.902,
          0.902,
          0.902,
          0.903,
          0.903,
          0.903,
          0.903,
          0.903,
          0.903,
          0.903,
          0.903,
          0.903,
          0.903,
          0.903,
          0.903,
          0.903,
          0.903,
          0.903,
          0.903,
          0.903,
          0.903,
          0.903,
          0.903,
          0.903,
          0.903,
          0.903,
          0.903,
          0.903,
          0.903,
          0.903,
          0.903,
          0.903,
          0.903,
          0.903,
          0.903,
          0.903,
          0.903,
          0.903,
          0.903,
          0.903,
          0.903,
          0.903,
          0.903,
          0.903,
          0.903,
          0.903,
          0.903,
          0.903,
          0.903,
          0.903,
          0.903,
          0.903,
          0.903,
          0.903,
          0.903,
          0.903,
          0.903,
          0.903
         ]
        },
        {
         "marker": {
          "color": "#cccccc"
         },
         "mode": "markers",
         "name": "Infeasible Trial",
         "showlegend": false,
         "type": "scatter",
         "x": [],
         "y": []
        }
       ],
       "layout": {
        "template": {
         "data": {
          "bar": [
           {
            "error_x": {
             "color": "#2a3f5f"
            },
            "error_y": {
             "color": "#2a3f5f"
            },
            "marker": {
             "line": {
              "color": "#E5ECF6",
              "width": 0.5
             },
             "pattern": {
              "fillmode": "overlay",
              "size": 10,
              "solidity": 0.2
             }
            },
            "type": "bar"
           }
          ],
          "barpolar": [
           {
            "marker": {
             "line": {
              "color": "#E5ECF6",
              "width": 0.5
             },
             "pattern": {
              "fillmode": "overlay",
              "size": 10,
              "solidity": 0.2
             }
            },
            "type": "barpolar"
           }
          ],
          "carpet": [
           {
            "aaxis": {
             "endlinecolor": "#2a3f5f",
             "gridcolor": "white",
             "linecolor": "white",
             "minorgridcolor": "white",
             "startlinecolor": "#2a3f5f"
            },
            "baxis": {
             "endlinecolor": "#2a3f5f",
             "gridcolor": "white",
             "linecolor": "white",
             "minorgridcolor": "white",
             "startlinecolor": "#2a3f5f"
            },
            "type": "carpet"
           }
          ],
          "choropleth": [
           {
            "colorbar": {
             "outlinewidth": 0,
             "ticks": ""
            },
            "type": "choropleth"
           }
          ],
          "contour": [
           {
            "colorbar": {
             "outlinewidth": 0,
             "ticks": ""
            },
            "colorscale": [
             [
              0,
              "#0d0887"
             ],
             [
              0.1111111111111111,
              "#46039f"
             ],
             [
              0.2222222222222222,
              "#7201a8"
             ],
             [
              0.3333333333333333,
              "#9c179e"
             ],
             [
              0.4444444444444444,
              "#bd3786"
             ],
             [
              0.5555555555555556,
              "#d8576b"
             ],
             [
              0.6666666666666666,
              "#ed7953"
             ],
             [
              0.7777777777777778,
              "#fb9f3a"
             ],
             [
              0.8888888888888888,
              "#fdca26"
             ],
             [
              1,
              "#f0f921"
             ]
            ],
            "type": "contour"
           }
          ],
          "contourcarpet": [
           {
            "colorbar": {
             "outlinewidth": 0,
             "ticks": ""
            },
            "type": "contourcarpet"
           }
          ],
          "heatmap": [
           {
            "colorbar": {
             "outlinewidth": 0,
             "ticks": ""
            },
            "colorscale": [
             [
              0,
              "#0d0887"
             ],
             [
              0.1111111111111111,
              "#46039f"
             ],
             [
              0.2222222222222222,
              "#7201a8"
             ],
             [
              0.3333333333333333,
              "#9c179e"
             ],
             [
              0.4444444444444444,
              "#bd3786"
             ],
             [
              0.5555555555555556,
              "#d8576b"
             ],
             [
              0.6666666666666666,
              "#ed7953"
             ],
             [
              0.7777777777777778,
              "#fb9f3a"
             ],
             [
              0.8888888888888888,
              "#fdca26"
             ],
             [
              1,
              "#f0f921"
             ]
            ],
            "type": "heatmap"
           }
          ],
          "heatmapgl": [
           {
            "colorbar": {
             "outlinewidth": 0,
             "ticks": ""
            },
            "colorscale": [
             [
              0,
              "#0d0887"
             ],
             [
              0.1111111111111111,
              "#46039f"
             ],
             [
              0.2222222222222222,
              "#7201a8"
             ],
             [
              0.3333333333333333,
              "#9c179e"
             ],
             [
              0.4444444444444444,
              "#bd3786"
             ],
             [
              0.5555555555555556,
              "#d8576b"
             ],
             [
              0.6666666666666666,
              "#ed7953"
             ],
             [
              0.7777777777777778,
              "#fb9f3a"
             ],
             [
              0.8888888888888888,
              "#fdca26"
             ],
             [
              1,
              "#f0f921"
             ]
            ],
            "type": "heatmapgl"
           }
          ],
          "histogram": [
           {
            "marker": {
             "pattern": {
              "fillmode": "overlay",
              "size": 10,
              "solidity": 0.2
             }
            },
            "type": "histogram"
           }
          ],
          "histogram2d": [
           {
            "colorbar": {
             "outlinewidth": 0,
             "ticks": ""
            },
            "colorscale": [
             [
              0,
              "#0d0887"
             ],
             [
              0.1111111111111111,
              "#46039f"
             ],
             [
              0.2222222222222222,
              "#7201a8"
             ],
             [
              0.3333333333333333,
              "#9c179e"
             ],
             [
              0.4444444444444444,
              "#bd3786"
             ],
             [
              0.5555555555555556,
              "#d8576b"
             ],
             [
              0.6666666666666666,
              "#ed7953"
             ],
             [
              0.7777777777777778,
              "#fb9f3a"
             ],
             [
              0.8888888888888888,
              "#fdca26"
             ],
             [
              1,
              "#f0f921"
             ]
            ],
            "type": "histogram2d"
           }
          ],
          "histogram2dcontour": [
           {
            "colorbar": {
             "outlinewidth": 0,
             "ticks": ""
            },
            "colorscale": [
             [
              0,
              "#0d0887"
             ],
             [
              0.1111111111111111,
              "#46039f"
             ],
             [
              0.2222222222222222,
              "#7201a8"
             ],
             [
              0.3333333333333333,
              "#9c179e"
             ],
             [
              0.4444444444444444,
              "#bd3786"
             ],
             [
              0.5555555555555556,
              "#d8576b"
             ],
             [
              0.6666666666666666,
              "#ed7953"
             ],
             [
              0.7777777777777778,
              "#fb9f3a"
             ],
             [
              0.8888888888888888,
              "#fdca26"
             ],
             [
              1,
              "#f0f921"
             ]
            ],
            "type": "histogram2dcontour"
           }
          ],
          "mesh3d": [
           {
            "colorbar": {
             "outlinewidth": 0,
             "ticks": ""
            },
            "type": "mesh3d"
           }
          ],
          "parcoords": [
           {
            "line": {
             "colorbar": {
              "outlinewidth": 0,
              "ticks": ""
             }
            },
            "type": "parcoords"
           }
          ],
          "pie": [
           {
            "automargin": true,
            "type": "pie"
           }
          ],
          "scatter": [
           {
            "fillpattern": {
             "fillmode": "overlay",
             "size": 10,
             "solidity": 0.2
            },
            "type": "scatter"
           }
          ],
          "scatter3d": [
           {
            "line": {
             "colorbar": {
              "outlinewidth": 0,
              "ticks": ""
             }
            },
            "marker": {
             "colorbar": {
              "outlinewidth": 0,
              "ticks": ""
             }
            },
            "type": "scatter3d"
           }
          ],
          "scattercarpet": [
           {
            "marker": {
             "colorbar": {
              "outlinewidth": 0,
              "ticks": ""
             }
            },
            "type": "scattercarpet"
           }
          ],
          "scattergeo": [
           {
            "marker": {
             "colorbar": {
              "outlinewidth": 0,
              "ticks": ""
             }
            },
            "type": "scattergeo"
           }
          ],
          "scattergl": [
           {
            "marker": {
             "colorbar": {
              "outlinewidth": 0,
              "ticks": ""
             }
            },
            "type": "scattergl"
           }
          ],
          "scattermapbox": [
           {
            "marker": {
             "colorbar": {
              "outlinewidth": 0,
              "ticks": ""
             }
            },
            "type": "scattermapbox"
           }
          ],
          "scatterpolar": [
           {
            "marker": {
             "colorbar": {
              "outlinewidth": 0,
              "ticks": ""
             }
            },
            "type": "scatterpolar"
           }
          ],
          "scatterpolargl": [
           {
            "marker": {
             "colorbar": {
              "outlinewidth": 0,
              "ticks": ""
             }
            },
            "type": "scatterpolargl"
           }
          ],
          "scatterternary": [
           {
            "marker": {
             "colorbar": {
              "outlinewidth": 0,
              "ticks": ""
             }
            },
            "type": "scatterternary"
           }
          ],
          "surface": [
           {
            "colorbar": {
             "outlinewidth": 0,
             "ticks": ""
            },
            "colorscale": [
             [
              0,
              "#0d0887"
             ],
             [
              0.1111111111111111,
              "#46039f"
             ],
             [
              0.2222222222222222,
              "#7201a8"
             ],
             [
              0.3333333333333333,
              "#9c179e"
             ],
             [
              0.4444444444444444,
              "#bd3786"
             ],
             [
              0.5555555555555556,
              "#d8576b"
             ],
             [
              0.6666666666666666,
              "#ed7953"
             ],
             [
              0.7777777777777778,
              "#fb9f3a"
             ],
             [
              0.8888888888888888,
              "#fdca26"
             ],
             [
              1,
              "#f0f921"
             ]
            ],
            "type": "surface"
           }
          ],
          "table": [
           {
            "cells": {
             "fill": {
              "color": "#EBF0F8"
             },
             "line": {
              "color": "white"
             }
            },
            "header": {
             "fill": {
              "color": "#C8D4E3"
             },
             "line": {
              "color": "white"
             }
            },
            "type": "table"
           }
          ]
         },
         "layout": {
          "annotationdefaults": {
           "arrowcolor": "#2a3f5f",
           "arrowhead": 0,
           "arrowwidth": 1
          },
          "autotypenumbers": "strict",
          "coloraxis": {
           "colorbar": {
            "outlinewidth": 0,
            "ticks": ""
           }
          },
          "colorscale": {
           "diverging": [
            [
             0,
             "#8e0152"
            ],
            [
             0.1,
             "#c51b7d"
            ],
            [
             0.2,
             "#de77ae"
            ],
            [
             0.3,
             "#f1b6da"
            ],
            [
             0.4,
             "#fde0ef"
            ],
            [
             0.5,
             "#f7f7f7"
            ],
            [
             0.6,
             "#e6f5d0"
            ],
            [
             0.7,
             "#b8e186"
            ],
            [
             0.8,
             "#7fbc41"
            ],
            [
             0.9,
             "#4d9221"
            ],
            [
             1,
             "#276419"
            ]
           ],
           "sequential": [
            [
             0,
             "#0d0887"
            ],
            [
             0.1111111111111111,
             "#46039f"
            ],
            [
             0.2222222222222222,
             "#7201a8"
            ],
            [
             0.3333333333333333,
             "#9c179e"
            ],
            [
             0.4444444444444444,
             "#bd3786"
            ],
            [
             0.5555555555555556,
             "#d8576b"
            ],
            [
             0.6666666666666666,
             "#ed7953"
            ],
            [
             0.7777777777777778,
             "#fb9f3a"
            ],
            [
             0.8888888888888888,
             "#fdca26"
            ],
            [
             1,
             "#f0f921"
            ]
           ],
           "sequentialminus": [
            [
             0,
             "#0d0887"
            ],
            [
             0.1111111111111111,
             "#46039f"
            ],
            [
             0.2222222222222222,
             "#7201a8"
            ],
            [
             0.3333333333333333,
             "#9c179e"
            ],
            [
             0.4444444444444444,
             "#bd3786"
            ],
            [
             0.5555555555555556,
             "#d8576b"
            ],
            [
             0.6666666666666666,
             "#ed7953"
            ],
            [
             0.7777777777777778,
             "#fb9f3a"
            ],
            [
             0.8888888888888888,
             "#fdca26"
            ],
            [
             1,
             "#f0f921"
            ]
           ]
          },
          "colorway": [
           "#636efa",
           "#EF553B",
           "#00cc96",
           "#ab63fa",
           "#FFA15A",
           "#19d3f3",
           "#FF6692",
           "#B6E880",
           "#FF97FF",
           "#FECB52"
          ],
          "font": {
           "color": "#2a3f5f"
          },
          "geo": {
           "bgcolor": "white",
           "lakecolor": "white",
           "landcolor": "#E5ECF6",
           "showlakes": true,
           "showland": true,
           "subunitcolor": "white"
          },
          "hoverlabel": {
           "align": "left"
          },
          "hovermode": "closest",
          "mapbox": {
           "style": "light"
          },
          "paper_bgcolor": "white",
          "plot_bgcolor": "#E5ECF6",
          "polar": {
           "angularaxis": {
            "gridcolor": "white",
            "linecolor": "white",
            "ticks": ""
           },
           "bgcolor": "#E5ECF6",
           "radialaxis": {
            "gridcolor": "white",
            "linecolor": "white",
            "ticks": ""
           }
          },
          "scene": {
           "xaxis": {
            "backgroundcolor": "#E5ECF6",
            "gridcolor": "white",
            "gridwidth": 2,
            "linecolor": "white",
            "showbackground": true,
            "ticks": "",
            "zerolinecolor": "white"
           },
           "yaxis": {
            "backgroundcolor": "#E5ECF6",
            "gridcolor": "white",
            "gridwidth": 2,
            "linecolor": "white",
            "showbackground": true,
            "ticks": "",
            "zerolinecolor": "white"
           },
           "zaxis": {
            "backgroundcolor": "#E5ECF6",
            "gridcolor": "white",
            "gridwidth": 2,
            "linecolor": "white",
            "showbackground": true,
            "ticks": "",
            "zerolinecolor": "white"
           }
          },
          "shapedefaults": {
           "line": {
            "color": "#2a3f5f"
           }
          },
          "ternary": {
           "aaxis": {
            "gridcolor": "white",
            "linecolor": "white",
            "ticks": ""
           },
           "baxis": {
            "gridcolor": "white",
            "linecolor": "white",
            "ticks": ""
           },
           "bgcolor": "#E5ECF6",
           "caxis": {
            "gridcolor": "white",
            "linecolor": "white",
            "ticks": ""
           }
          },
          "title": {
           "x": 0.05
          },
          "xaxis": {
           "automargin": true,
           "gridcolor": "white",
           "linecolor": "white",
           "ticks": "",
           "title": {
            "standoff": 15
           },
           "zerolinecolor": "white",
           "zerolinewidth": 2
          },
          "yaxis": {
           "automargin": true,
           "gridcolor": "white",
           "linecolor": "white",
           "ticks": "",
           "title": {
            "standoff": 15
           },
           "zerolinecolor": "white",
           "zerolinewidth": 2
          }
         }
        },
        "title": {
         "text": "Optimization History Plot"
        },
        "xaxis": {
         "title": {
          "text": "Trial"
         }
        },
        "yaxis": {
         "title": {
          "text": "Objective Value"
         }
        }
       }
      }
     },
     "metadata": {},
     "output_type": "display_data"
    }
   ],
   "source": [
    "vis.plot_optimization_history(study)"
   ]
  },
  {
   "cell_type": "markdown",
   "metadata": {},
   "source": [
    "Why Loss != Accuracy? \n",
    "- not much information about structure of fit"
   ]
  }
 ],
 "metadata": {
  "kernelspec": {
   "display_name": "Python 3 (ipykernel)",
   "language": "python",
   "name": "python3"
  },
  "language_info": {
   "codemirror_mode": {
    "name": "ipython",
    "version": 3
   },
   "file_extension": ".py",
   "mimetype": "text/x-python",
   "name": "python",
   "nbconvert_exporter": "python",
   "pygments_lexer": "ipython3",
   "version": "3.10.13"
  }
 },
 "nbformat": 4,
 "nbformat_minor": 4
}
